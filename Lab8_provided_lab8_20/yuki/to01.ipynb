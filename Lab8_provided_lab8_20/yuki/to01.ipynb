{
 "cells": [
  {
   "cell_type": "code",
   "execution_count": 4,
   "metadata": {
    "tags": [
     "outputPrepend"
    ]
   },
   "outputs": [],
   "source": [
    "import os \n",
    "m=os.listdir('./')\n",
    "for j in m:\n",
    "    if \".txt\" in j:\n",
    "        with open(j, \"r\") as fr:\n",
    "            with open(j[:-4]+\"new\"+\".txt\", \"w\") as fw:\n",
    "                s_all = fr.readlines() \n",
    "                for m in range(len(s_all)):\n",
    "                    if m-5<0:\n",
    "                        mi=0\n",
    "                    else:\n",
    "                        mi=m-5\n",
    "                    if mi+10>len(s_all)+1:\n",
    "                        end=len(s_all)+1\n",
    "                    else:\n",
    "                        end=mi+10\n",
    "                    if s_all[mi:end].count('0\\n')>5: \n",
    "                        fw.write('0\\n')\n",
    "                    else:\n",
    "                        if '0\\n'!=s_all[m]:\n",
    "                            fw.write('1\\n')\n",
    "                        else:\n",
    "                            fw.write('0\\n')\n",
    "                            \n",
    "        fw.close()\n",
    "        fr.close()\n",
    "                "
   ]
  },
  {
   "cell_type": "code",
   "execution_count": 1,
   "metadata": {},
   "outputs": [
    {
     "data": {
      "text/plain": [
       "3"
      ]
     },
     "execution_count": 1,
     "metadata": {},
     "output_type": "execute_result"
    }
   ],
   "source": [
    "m=[1,2,2,2,3]\n",
    "m.count(2)"
   ]
  },
  {
   "cell_type": "code",
   "execution_count": null,
   "metadata": {},
   "outputs": [],
   "source": []
  }
 ],
 "metadata": {
  "kernelspec": {
   "display_name": "Python 3",
   "language": "python",
   "name": "python3"
  },
  "language_info": {
   "codemirror_mode": {
    "name": "ipython",
    "version": 3
   },
   "file_extension": ".py",
   "mimetype": "text/x-python",
   "name": "python",
   "nbconvert_exporter": "python",
   "pygments_lexer": "ipython3",
   "version": "3.7.4"
  }
 },
 "nbformat": 4,
 "nbformat_minor": 2
}
